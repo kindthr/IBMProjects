{
 "cells": [
  {
   "cell_type": "markdown",
   "metadata": {},
   "source": [
    "# My Jupyter Notebook on IBM Watson Studio\n"
   ]
  },
  {
   "cell_type": "markdown",
   "metadata": {},
   "source": [
    "**Keltouma**\n"
   ]
  },
  {
   "cell_type": "markdown",
   "metadata": {},
   "source": [
    "*I am interested in data science because I always interested by data and I'm appetit for data*\n"
   ]
  },
  {
   "cell_type": "markdown",
   "metadata": {},
   "source": [
    "### The code bellow is a function of addition of two numbers"
   ]
  },
  {
   "cell_type": "code",
   "execution_count": 4,
   "metadata": {},
   "outputs": [
    {
     "name": "stdout",
     "output_type": "stream",
     "text": [
      " 50 + 10 =  60\n"
     ]
    }
   ],
   "source": [
    "a, b = 50,10\n",
    "def add(a,b):\n",
    "    return a+b\n",
    "print(f\" {a} + {b} = \", add(a,b))"
   ]
  },
  {
   "cell_type": "markdown",
   "metadata": {},
   "source": [
    "- list1 1.data science <img src=\"https://www.google.com/search?q=img&rlz=1C1CHBF_frMA827MA827&sxsrf=AJOqlzV8MuBDND3lpIhOiDITkqFwoeUTXA:1675003676801&source=lnms&tbm=isch&sa=X&ved=2ahUKEwjexZz5gu38AhUmTaQEHXG8DGEQ_AUoAXoECAEQAw&biw=1536&bih=746&dpr=1.25#imgrc=OmEuLe5xgrt5hM\" alt=\"Alt text that describes the graphic\" title=\"Title text\" />"
   ]
  },
  {
   "cell_type": "code",
   "execution_count": null,
   "metadata": {},
   "outputs": [],
   "source": []
  }
 ],
 "metadata": {
  "kernelspec": {
   "display_name": "Python",
   "language": "python",
   "name": "conda-env-python-py"
  },
  "language_info": {
   "codemirror_mode": {
    "name": "ipython",
    "version": 3
   },
   "file_extension": ".py",
   "mimetype": "text/x-python",
   "name": "python",
   "nbconvert_exporter": "python",
   "pygments_lexer": "ipython3",
   "version": "3.7.12"
  }
 },
 "nbformat": 4,
 "nbformat_minor": 4
}
